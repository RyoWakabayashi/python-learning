{
  "cells": [
    {
      "attachments": {},
      "cell_type": "markdown",
      "metadata": {},
      "source": [
        "# Python 画像処理"
      ]
    },
    {
      "attachments": {},
      "cell_type": "markdown",
      "metadata": {},
      "source": [
        "Python による画像処理を学習するためのノートブック\n",
        "\n",
        "[![Open In Colab](https://colab.research.google.com/assets/colab-badge.svg)](https://colab.research.google.com/github/RyoWakabayashi/python-learning/blob/main/notebooks/Python%E7%94%BB%E5%83%8F%E5%87%A6%E7%90%86.ipynb)\n",
        "\n",
        "Python 入門については以下を参照\n",
        "\n",
        "[ゼロからの Python 入門講座](https://www.python.jp/train/index.html)"
      ]
    },
    {
      "attachments": {},
      "cell_type": "markdown",
      "metadata": {
        "id": "hIZHA62ZeyC8"
      },
      "source": [
        "## Jupyter 基礎"
      ]
    },
    {
      "attachments": {},
      "cell_type": "markdown",
      "metadata": {},
      "source": [
        "セルに Python コードを書いて実行すると結果が表示される"
      ]
    },
    {
      "cell_type": "code",
      "execution_count": null,
      "metadata": {
        "id": "_WUpNpAPe1Gu"
      },
      "outputs": [],
      "source": [
        "1 + 1"
      ]
    },
    {
      "cell_type": "code",
      "execution_count": null,
      "metadata": {
        "id": "O6YwzgDpe3VS"
      },
      "outputs": [],
      "source": [
        "\"Hello, Jupyter\""
      ]
    },
    {
      "cell_type": "code",
      "execution_count": null,
      "metadata": {
        "id": "MMLRg6YXe6SV"
      },
      "outputs": [],
      "source": [
        "x = 1\n",
        "y = 2"
      ]
    },
    {
      "cell_type": "code",
      "execution_count": null,
      "metadata": {
        "id": "vCDs8nshfAVm"
      },
      "outputs": [],
      "source": [
        "x + y"
      ]
    },
    {
      "attachments": {},
      "cell_type": "markdown",
      "metadata": {
        "id": "8lJVmFZBc_Tx"
      },
      "source": [
        "## The Zen of Python"
      ]
    },
    {
      "attachments": {},
      "cell_type": "markdown",
      "metadata": {},
      "source": [
        "Python の思想"
      ]
    },
    {
      "cell_type": "code",
      "execution_count": null,
      "metadata": {
        "id": "1VyMQEcaaWOG"
      },
      "outputs": [],
      "source": [
        "import this"
      ]
    },
    {
      "attachments": {},
      "cell_type": "markdown",
      "metadata": {},
      "source": [
        "`!` を先頭につけるとシェルコマンドを実行できる\n",
        "\n",
        "`pip install` で Python パッケージをインストールできる"
      ]
    },
    {
      "cell_type": "code",
      "execution_count": null,
      "metadata": {
        "id": "BvrgovSVbHtx"
      },
      "outputs": [],
      "source": [
        "!pip install deep_translator"
      ]
    },
    {
      "attachments": {},
      "cell_type": "markdown",
      "metadata": {},
      "source": [
        "`import` でパッケージを読み込む"
      ]
    },
    {
      "cell_type": "code",
      "execution_count": null,
      "metadata": {
        "id": "9qwQqdBXbGKW"
      },
      "outputs": [],
      "source": [
        "from deep_translator import GoogleTranslator"
      ]
    },
    {
      "cell_type": "code",
      "execution_count": null,
      "metadata": {
        "id": "k2e6xN2KbTMU"
      },
      "outputs": [],
      "source": [
        "GoogleTranslator(source='auto', target='ja').translate(\n",
        "\"\"\"\n",
        "The Zen of Python, by Tim Peters\n",
        "\n",
        "Beautiful is better than ugly.\n",
        "Explicit is better than implicit.\n",
        "Simple is better than complex.\n",
        "Complex is better than complicated.\n",
        "Flat is better than nested.\n",
        "Sparse is better than dense.\n",
        "Readability counts.\n",
        "Special cases aren't special enough to break the rules.\n",
        "Although practicality beats purity.\n",
        "Errors should never pass silently.\n",
        "Unless explicitly silenced.\n",
        "In the face of ambiguity, refuse the temptation to guess.\n",
        "There should be one-- and preferably only one --obvious way to do it.\n",
        "Although that way may not be obvious at first unless you're Dutch.\n",
        "Now is better than never.\n",
        "Although never is often better than *right* now.\n",
        "If the implementation is hard to explain, it's a bad idea.\n",
        "If the implementation is easy to explain, it may be a good idea.\n",
        "Namespaces are one honking great idea -- let's do more of those!\n",
        "\"\"\"\n",
        ").splitlines()"
      ]
    },
    {
      "attachments": {},
      "cell_type": "markdown",
      "metadata": {},
      "source": [
        "## Python の配列処理"
      ]
    },
    {
      "cell_type": "code",
      "execution_count": null,
      "metadata": {},
      "outputs": [],
      "source": [
        "array = [0, 1, 2, 3, 4, 5]"
      ]
    },
    {
      "attachments": {},
      "cell_type": "markdown",
      "metadata": {},
      "source": [
        "`[]` で配列内の範囲や位置を指定できる\n"
      ]
    },
    {
      "cell_type": "code",
      "execution_count": null,
      "metadata": {},
      "outputs": [],
      "source": [
        "# `[x]` で x 番目\n",
        "array[0]"
      ]
    },
    {
      "cell_type": "code",
      "execution_count": null,
      "metadata": {},
      "outputs": [],
      "source": [
        "# `[x:]` で x 番目以降\n",
        "array[2:]"
      ]
    },
    {
      "cell_type": "code",
      "execution_count": null,
      "metadata": {},
      "outputs": [],
      "source": [
        "# `[:y]` で y 番目まで\n",
        "array[:4]"
      ]
    },
    {
      "cell_type": "code",
      "execution_count": null,
      "metadata": {},
      "outputs": [],
      "source": [
        "# `[x:y]` で x 番目以降、 y 番目まで\n",
        "array[1:3]"
      ]
    },
    {
      "cell_type": "code",
      "execution_count": null,
      "metadata": {},
      "outputs": [],
      "source": [
        "# `[:]` は全体\n",
        "array[:]"
      ]
    },
    {
      "attachments": {},
      "cell_type": "markdown",
      "metadata": {},
      "source": [
        "### 演習１\n",
        "\n",
        "結果が `[4, 5]` になるよう `array` から特定の範囲を抽出してください"
      ]
    },
    {
      "attachments": {},
      "cell_type": "markdown",
      "metadata": {},
      "source": [
        "`for` で繰り返し処理ができる"
      ]
    },
    {
      "cell_type": "code",
      "execution_count": null,
      "metadata": {
        "id": "yDcot54-F8U9"
      },
      "outputs": [],
      "source": [
        "for index in array:\n",
        "  print(index)"
      ]
    },
    {
      "cell_type": "code",
      "execution_count": null,
      "metadata": {
        "id": "NfEUxResGBFi"
      },
      "outputs": [],
      "source": [
        "for index in range(10):\n",
        "  if index % 2 == 0:\n",
        "    print(index)"
      ]
    },
    {
      "attachments": {},
      "cell_type": "markdown",
      "metadata": {},
      "source": [
        "## Python の行列演算"
      ]
    },
    {
      "attachments": {},
      "cell_type": "markdown",
      "metadata": {},
      "source": [
        "Numpy は行列演算を行うためのパッケージ\n",
        "\n",
        "`import numpy as np` として読み込むと、 `np` で参照できる"
      ]
    },
    {
      "cell_type": "code",
      "execution_count": null,
      "metadata": {},
      "outputs": [],
      "source": [
        "import numpy as np"
      ]
    },
    {
      "attachments": {},
      "cell_type": "markdown",
      "metadata": {},
      "source": [
        "通常の配列を Numpy の配列に変換するには `np.array()` を使う"
      ]
    },
    {
      "cell_type": "code",
      "execution_count": null,
      "metadata": {},
      "outputs": [],
      "source": [
        "np_array = np.array(array)\n",
        "\n",
        "np_array"
      ]
    },
    {
      "attachments": {},
      "cell_type": "markdown",
      "metadata": {},
      "source": [
        "通常の配列と同様、 `[]` で範囲や位置を指定できる"
      ]
    },
    {
      "cell_type": "code",
      "execution_count": null,
      "metadata": {},
      "outputs": [],
      "source": [
        "np_array[2:4]"
      ]
    },
    {
      "attachments": {},
      "cell_type": "markdown",
      "metadata": {},
      "source": [
        "Numpy では多次元の行列を扱える"
      ]
    },
    {
      "cell_type": "code",
      "execution_count": null,
      "metadata": {},
      "outputs": [],
      "source": [
        "np_matrix = np.array([[0, 1, 2], [3, 4, 5], [6, 7, 8]])\n",
        "\n",
        "np_matrix"
      ]
    },
    {
      "attachments": {},
      "cell_type": "markdown",
      "metadata": {},
      "source": [
        "`.shape` で行列の形を確認できる"
      ]
    },
    {
      "cell_type": "code",
      "execution_count": null,
      "metadata": {},
      "outputs": [],
      "source": [
        "np_matrix.shape"
      ]
    },
    {
      "attachments": {},
      "cell_type": "markdown",
      "metadata": {},
      "source": [
        "各次元に対して範囲指定ができる"
      ]
    },
    {
      "cell_type": "code",
      "execution_count": null,
      "metadata": {},
      "outputs": [],
      "source": [
        "# 2行目\n",
        "np_matrix[1]"
      ]
    },
    {
      "cell_type": "code",
      "execution_count": null,
      "metadata": {},
      "outputs": [],
      "source": [
        "# 2行目、2列目\n",
        "np_matrix[1][1]"
      ]
    },
    {
      "cell_type": "code",
      "execution_count": null,
      "metadata": {},
      "outputs": [],
      "source": [
        "# 2-3行目、1-2列目\n",
        "np_matrix[1:3, :2]"
      ]
    },
    {
      "cell_type": "code",
      "execution_count": null,
      "metadata": {},
      "outputs": [],
      "source": [
        "# 全体\n",
        "np_matrix[:,:]"
      ]
    },
    {
      "attachments": {},
      "cell_type": "markdown",
      "metadata": {},
      "source": [
        "指定した範囲の値を変更することができる"
      ]
    },
    {
      "cell_type": "code",
      "execution_count": null,
      "metadata": {},
      "outputs": [],
      "source": [
        "np_matrix[2, :2] = [9, 10]\n",
        "\n",
        "np_matrix"
      ]
    },
    {
      "attachments": {},
      "cell_type": "markdown",
      "metadata": {},
      "source": [
        "## 演習２\n",
        "\n",
        "`np_matrix` の 2 行目の 2 列目から 3 列目までの値を 99 に変更してください"
      ]
    },
    {
      "attachments": {},
      "cell_type": "markdown",
      "metadata": {
        "id": "_85w0d_6drtm"
      },
      "source": [
        "## OpenCV による画像生成"
      ]
    },
    {
      "attachments": {},
      "cell_type": "markdown",
      "metadata": {},
      "source": [
        "Google Colab では OpenCV などのパッケージが既にインストールされている\n",
        "\n",
        "[OpenCV のチュートリアル](https://docs.opencv.org/4.x/d6/d00/tutorial_py_root.html)\n",
        "\n",
        "OpenCV は `import cv` で読み込める"
      ]
    },
    {
      "cell_type": "code",
      "execution_count": null,
      "metadata": {
        "id": "z_1OzvsIdJiO"
      },
      "outputs": [],
      "source": [
        "import cv2\n",
        "from IPython.display import display, Image"
      ]
    },
    {
      "attachments": {},
      "cell_type": "markdown",
      "metadata": {},
      "source": [
        "画像を表示するための関数を用意する"
      ]
    },
    {
      "cell_type": "code",
      "execution_count": null,
      "metadata": {
        "id": "9hJ5-xWqepUf"
      },
      "outputs": [],
      "source": [
        "def show(img):\n",
        "    _, buf = cv2.imencode(\".jpg\", img)\n",
        "    display(Image(data=buf.tobytes()))"
      ]
    },
    {
      "attachments": {},
      "cell_type": "markdown",
      "metadata": {},
      "source": [
        "`np.zeros((<縦>, <横>, 3), np.uint8)` で真っ黒の画像を生成できる"
      ]
    },
    {
      "cell_type": "code",
      "execution_count": null,
      "metadata": {
        "id": "pisvq29hdyIb"
      },
      "outputs": [],
      "source": [
        "new_image = np.zeros((300, 300, 3), np.uint8)\n",
        "\n",
        "show(new_image)"
      ]
    },
    {
      "attachments": {},
      "cell_type": "markdown",
      "metadata": {},
      "source": [
        "`(<縦>, <横>, 3)` の `3` の部分は色情報を表す\n",
        "\n",
        "色は BGR = Blue Green Red の順番で指定する\n",
        "\n",
        "それぞれ 0 から 255 の範囲で指定する"
      ]
    },
    {
      "cell_type": "code",
      "execution_count": null,
      "metadata": {
        "id": "-jdXEwyqfOjN"
      },
      "outputs": [],
      "source": [
        "# 全体を青にする\n",
        "new_image[:,:] = [255, 0, 0]\n",
        "\n",
        "show(new_image)"
      ]
    },
    {
      "cell_type": "code",
      "execution_count": null,
      "metadata": {
        "id": "m2CbrOrAfXTC"
      },
      "outputs": [],
      "source": [
        "# 全体を暗い緑にする\n",
        "new_image[:,:] = [0, 128, 0]\n",
        "\n",
        "show(new_image)"
      ]
    },
    {
      "cell_type": "code",
      "execution_count": null,
      "metadata": {
        "id": "LqbI0D5afhMD"
      },
      "outputs": [],
      "source": [
        "# 全体を赤にする\n",
        "new_image[:,:] = [0, 0, 255]\n",
        "\n",
        "show(new_image)"
      ]
    },
    {
      "attachments": {},
      "cell_type": "markdown",
      "metadata": {
        "id": "0Pz_j-lKfj6s"
      },
      "source": [
        "### 演習３\n",
        "\n",
        "紫色、黄色を作ってください"
      ]
    },
    {
      "attachments": {},
      "cell_type": "markdown",
      "metadata": {},
      "source": [
        "行列内の範囲で色や画像内の位置を指定できる"
      ]
    },
    {
      "cell_type": "code",
      "execution_count": null,
      "metadata": {
        "id": "OUK6KbQefstm"
      },
      "outputs": [],
      "source": [
        "new_image = np.zeros((300, 300, 3), np.uint8)\n",
        "\n",
        "new_image[:,:,1] = 150\n",
        "\n",
        "show(new_image)"
      ]
    },
    {
      "cell_type": "code",
      "execution_count": null,
      "metadata": {
        "id": "wsECpfvEg16D"
      },
      "outputs": [],
      "source": [
        "new_image[:100,:100] = [255, 0, 0]\n",
        "new_image[:100,200:300] = [0, 255, 0]\n",
        "new_image[200:300,200:300] = [0, 0, 255]\n",
        "\n",
        "show(new_image)"
      ]
    },
    {
      "attachments": {},
      "cell_type": "markdown",
      "metadata": {
        "id": "8esBxS7XhLQq"
      },
      "source": [
        "### 演習４\n",
        "\n",
        "画像の中央を白くしてください"
      ]
    },
    {
      "attachments": {},
      "cell_type": "markdown",
      "metadata": {
        "id": "-4pW_E-Yhc1e"
      },
      "source": [
        "## OpenCV による画像加工"
      ]
    },
    {
      "attachments": {},
      "cell_type": "markdown",
      "metadata": {},
      "source": [
        "Web から画像をダウンロードする"
      ]
    },
    {
      "cell_type": "code",
      "execution_count": null,
      "metadata": {
        "id": "UcdHE5Vhh_Ru"
      },
      "outputs": [],
      "source": [
        "from urllib import request"
      ]
    },
    {
      "cell_type": "code",
      "execution_count": null,
      "metadata": {
        "id": "zvByk2AbueGJ"
      },
      "outputs": [],
      "source": [
        "def download_image(url):\n",
        "    req = request.urlopen(url)\n",
        "\n",
        "    array = np.asarray(bytearray(req.read()), dtype=np.uint8)\n",
        "    return cv2.imdecode(array, cv2.IMREAD_UNCHANGED)"
      ]
    },
    {
      "cell_type": "code",
      "execution_count": null,
      "metadata": {
        "id": "Io5M-NgrhkuL"
      },
      "outputs": [],
      "source": [
        "face_image = download_image(\"https://www.elixirconf.eu/assets/images/ryo-wakabayashi.png\")\n",
        "\n",
        "show(face_image)"
      ]
    },
    {
      "attachments": {},
      "cell_type": "markdown",
      "metadata": {},
      "source": [
        "画像内の特定の範囲だけを切り抜く"
      ]
    },
    {
      "cell_type": "code",
      "execution_count": null,
      "metadata": {
        "id": "NaSKfvDGmqig"
      },
      "outputs": [],
      "source": [
        "show(face_image[250:350,200:400])"
      ]
    },
    {
      "attachments": {},
      "cell_type": "markdown",
      "metadata": {},
      "source": [
        "画像内の特定の範囲だけ色を変える"
      ]
    },
    {
      "cell_type": "code",
      "execution_count": null,
      "metadata": {
        "id": "DuNzmaWt23tq"
      },
      "outputs": [],
      "source": [
        "new_face_image = face_image.copy()\n",
        "\n",
        "new_face_image[250:350,200:400,:] = 0\n",
        "\n",
        "show(new_face_image)"
      ]
    },
    {
      "attachments": {},
      "cell_type": "markdown",
      "metadata": {},
      "source": [
        "画像のサイズを変更する"
      ]
    },
    {
      "cell_type": "code",
      "execution_count": null,
      "metadata": {
        "id": "8PqlCv2rhCoV"
      },
      "outputs": [],
      "source": [
        "resized_image = cv2.resize(face_image, (800, 200))\n",
        "\n",
        "show(resized_image)"
      ]
    },
    {
      "attachments": {},
      "cell_type": "markdown",
      "metadata": {},
      "source": [
        "縮小してから拡大すると、モザイクがかかる"
      ]
    },
    {
      "cell_type": "code",
      "execution_count": null,
      "metadata": {
        "id": "hZ1KOF4ei82q"
      },
      "outputs": [],
      "source": [
        "small_image = cv2.resize(face_image, (32, 32), interpolation=cv2.INTER_LINEAR)\n",
        "show(small_image)\n",
        "\n",
        "pixelated_image = cv2.resize(small_image, (600, 600), interpolation=cv2.INTER_NEAREST)\n",
        "show(pixelated_image)"
      ]
    },
    {
      "attachments": {},
      "cell_type": "markdown",
      "metadata": {
        "id": "Yw-2ebjZ3Sd7"
      },
      "source": [
        "### 演習５\n",
        "\n",
        "目の周りにだけモザイクをかけてください"
      ]
    },
    {
      "attachments": {},
      "cell_type": "markdown",
      "metadata": {
        "id": "N5n2lg0cx9y5"
      },
      "source": [
        "### 差分抽出"
      ]
    },
    {
      "attachments": {},
      "cell_type": "markdown",
      "metadata": {},
      "source": [
        "行列の差を取ると、画像の差分を抽出できる"
      ]
    },
    {
      "cell_type": "code",
      "execution_count": null,
      "metadata": {
        "id": "arqcFRiTi8zF"
      },
      "outputs": [],
      "source": [
        "before_image = download_image(\"https://camo.qiitausercontent.com/c55169fbe0573e7d468719ff7e5e6f25efa72056/68747470733a2f2f71696974612d696d6167652d73746f72652e73332e61702d6e6f727468656173742d312e616d617a6f6e6177732e636f6d2f302f313438353833352f31323138373463622d336363392d373530632d616631332d3034366136326537306361662e706e67\")\n",
        "show(before_image)\n",
        "print(before_image.shape)\n",
        "\n",
        "after_image = download_image(\"https://camo.qiitausercontent.com/892841eb218de977b432949975d0a13b77252463/68747470733a2f2f71696974612d696d6167652d73746f72652e73332e61702d6e6f727468656173742d312e616d617a6f6e6177732e636f6d2f302f313438353833352f31646334313835622d663637342d326434372d636165322d6364613331626433653039372e706e67\")\n",
        "show(after_image)\n",
        "print(after_image.shape)"
      ]
    },
    {
      "cell_type": "code",
      "execution_count": null,
      "metadata": {
        "id": "hKK8Dk1ri8wi"
      },
      "outputs": [],
      "source": [
        "show(after_image[:,:,:3] - before_image)"
      ]
    },
    {
      "attachments": {},
      "cell_type": "markdown",
      "metadata": {
        "id": "yas9jrWz60Fp"
      },
      "source": [
        "### 画像の並進、回転"
      ]
    },
    {
      "attachments": {},
      "cell_type": "markdown",
      "metadata": {},
      "source": [
        "画像の並進、回転にはアフィン変換を利用する"
      ]
    },
    {
      "cell_type": "code",
      "execution_count": null,
      "metadata": {
        "id": "32x1oT5Mi8ta"
      },
      "outputs": [],
      "source": [
        "(height, width, _) = face_image.shape\n",
        "\n",
        "(height, width)"
      ]
    },
    {
      "cell_type": "code",
      "execution_count": null,
      "metadata": {
        "id": "It7-OZCBi8ia"
      },
      "outputs": [],
      "source": [
        "dx, dy = 200, 100\n",
        "\n",
        "afin_matrix = np.array(\n",
        "    [[1, 0, dx],\n",
        "     [0, 1, dy]],\n",
        "    np.float32\n",
        ")\n",
        "\n",
        "moved_image = cv2.warpAffine(face_image, afin_matrix, (width, height))\n",
        "\n",
        "show(moved_image)"
      ]
    },
    {
      "cell_type": "code",
      "execution_count": null,
      "metadata": {
        "id": "r58NjTVN7_zh"
      },
      "outputs": [],
      "source": [
        "digree = 30\n",
        "\n",
        "afin_matrix = cv2.getRotationMatrix2D((width/2, height/2), digree, 1)\n",
        "\n",
        "rotated_image = cv2.warpAffine(face_image, afin_matrix, (width, height))\n",
        "\n",
        "show(rotated_image)"
      ]
    },
    {
      "attachments": {},
      "cell_type": "markdown",
      "metadata": {
        "id": "ORn3eBaT8W5P"
      },
      "source": [
        "### 演習６\n",
        "\n",
        "画像を45度回転して上に 100px 左に 200px 動かしてください"
      ]
    },
    {
      "attachments": {},
      "cell_type": "markdown",
      "metadata": {
        "id": "0bnauCkB-Eor"
      },
      "source": [
        "### 図形、文字列の描画"
      ]
    },
    {
      "cell_type": "code",
      "execution_count": null,
      "metadata": {
        "id": "SVG1T-PY8jf9"
      },
      "outputs": [],
      "source": [
        "drawed_image = face_image.copy()\n",
        "\n",
        "cv2.rectangle(drawed_image,\n",
        "    (200, 100),  # 左上の座標\n",
        "    (300, 400),  # 右下の座標\n",
        "    (0, 0, 255), # 色\n",
        "    thickness=8  # 太さ\n",
        ")\n",
        "\n",
        "cv2.ellipse(drawed_image,\n",
        "    ((300, 200), (100, 50), 45),  # 中心座標、長径と短径、回転角度\n",
        "    (0, 255, 0),  # 色\n",
        "    thickness=5   # 太さ\n",
        ")\n",
        "\n",
        "cv2.putText(drawed_image,\n",
        "    'Hello!',                 # 描画する文字列\n",
        "    (250, 150),               # 文字列を描画する座標\n",
        "    cv2.FONT_HERSHEY_SIMPLEX, # フォント\n",
        "    2.0,                      # 文字の大きさ\n",
        "    (255, 0, 0),              # 色\n",
        "    thickness=4               # 太さ\n",
        ")\n",
        "\n",
        "show(drawed_image)"
      ]
    },
    {
      "attachments": {},
      "cell_type": "markdown",
      "metadata": {
        "id": "Jd9gY21R-Ok0"
      },
      "source": [
        "### 類似画像検索"
      ]
    },
    {
      "attachments": {},
      "cell_type": "markdown",
      "metadata": {},
      "source": [
        "画像のハッシュを使うことで、画像間の類似度を計算できる"
      ]
    },
    {
      "cell_type": "code",
      "execution_count": null,
      "metadata": {
        "id": "mrA2g0_J8jSx"
      },
      "outputs": [],
      "source": [
        "# 元画像\n",
        "image_a = face_image.copy()\n",
        "\n",
        "# 縮小\n",
        "image_b = cv2.resize(face_image, (300, 300))\n",
        "\n",
        "# 平行移動\n",
        "image_c = cv2.warpAffine(face_image, np.array([[1, 0, 30],[0, 1, 20]], np.float32), (width, height))\n",
        "\n",
        "# 回転\n",
        "image_d = cv2.warpAffine(face_image, np.array(cv2.getRotationMatrix2D((width/2, height/2), 5, 1), np.float32), (width, height))\n",
        "\n",
        "# 四角形の描画\n",
        "image_e = cv2.rectangle(face_image.copy(), (200, 100), (300, 400), (0, 0, 255), thickness=8)\n",
        "\n",
        "# 別の画像\n",
        "image_f = cv2.resize(download_image(\"https://www.elixirconf.eu/assets/images/susumu-yamazaki.jpg\"), (600, 600))\n",
        "\n",
        "show(image_a)\n",
        "show(image_b)\n",
        "show(image_c)\n",
        "show(image_d)\n",
        "show(image_e)\n",
        "show(image_f)"
      ]
    },
    {
      "attachments": {},
      "cell_type": "markdown",
      "metadata": {},
      "source": [
        "#### PHash"
      ]
    },
    {
      "cell_type": "code",
      "execution_count": null,
      "metadata": {
        "id": "lksFTWkp_wB8"
      },
      "outputs": [],
      "source": [
        "hash_func = cv2.img_hash.PHash_create()\n",
        "\n",
        "phash_a = hash_func.compute(image_a)\n",
        "phash_b = hash_func.compute(image_b)\n",
        "phash_c = hash_func.compute(image_c)\n",
        "phash_d = hash_func.compute(image_d)\n",
        "phash_e = hash_func.compute(image_e)\n",
        "phash_f = hash_func.compute(image_f)\n",
        "\n",
        "print([phash_a, phash_b, phash_c, phash_d, phash_e, phash_f])"
      ]
    },
    {
      "cell_type": "code",
      "execution_count": null,
      "metadata": {
        "id": "eMl84qbvAa-l"
      },
      "outputs": [],
      "source": [
        "print(hash_func.compare(phash_a, phash_a))\n",
        "print(hash_func.compare(phash_a, phash_b))\n",
        "print(hash_func.compare(phash_a, phash_c))\n",
        "print(hash_func.compare(phash_a, phash_d))\n",
        "print(hash_func.compare(phash_a, phash_e))\n",
        "print(hash_func.compare(phash_a, phash_f))"
      ]
    },
    {
      "attachments": {},
      "cell_type": "markdown",
      "metadata": {},
      "source": [
        "#### AHash"
      ]
    },
    {
      "cell_type": "code",
      "execution_count": null,
      "metadata": {
        "id": "eBpkJkOOBwjO"
      },
      "outputs": [],
      "source": [
        "hash_func = cv2.img_hash.AverageHash_create()\n",
        "\n",
        "ahash_a = hash_func.compute(image_a)\n",
        "ahash_b = hash_func.compute(image_b)\n",
        "ahash_c = hash_func.compute(image_c)\n",
        "ahash_d = hash_func.compute(image_d)\n",
        "ahash_e = hash_func.compute(image_e)\n",
        "ahash_f = hash_func.compute(image_f)\n",
        "\n",
        "print(hash_func.compare(ahash_a, ahash_a))\n",
        "print(hash_func.compare(ahash_a, ahash_b))\n",
        "print(hash_func.compare(ahash_a, ahash_c))\n",
        "print(hash_func.compare(ahash_a, ahash_d))\n",
        "print(hash_func.compare(ahash_a, ahash_e))\n",
        "print(hash_func.compare(ahash_a, ahash_f))"
      ]
    },
    {
      "attachments": {},
      "cell_type": "markdown",
      "metadata": {},
      "source": [
        "#### BHash"
      ]
    },
    {
      "cell_type": "code",
      "execution_count": null,
      "metadata": {
        "id": "1AeGQJKTB7Mk"
      },
      "outputs": [],
      "source": [
        "hash_func = cv2.img_hash.BlockMeanHash_create()\n",
        "\n",
        "bhash_a = hash_func.compute(image_a)\n",
        "bhash_b = hash_func.compute(image_b)\n",
        "bhash_c = hash_func.compute(image_c)\n",
        "bhash_d = hash_func.compute(image_d)\n",
        "bhash_e = hash_func.compute(image_e)\n",
        "bhash_f = hash_func.compute(image_f)\n",
        "\n",
        "print(hash_func.compare(bhash_a, bhash_a))\n",
        "print(hash_func.compare(bhash_a, bhash_b))\n",
        "print(hash_func.compare(bhash_a, bhash_c))\n",
        "print(hash_func.compare(bhash_a, bhash_d))\n",
        "print(hash_func.compare(bhash_a, bhash_e))\n",
        "print(hash_func.compare(bhash_a, bhash_f))"
      ]
    },
    {
      "attachments": {},
      "cell_type": "markdown",
      "metadata": {
        "id": "pDsqE4ZeDlFJ"
      },
      "source": [
        "## OpenCV による動画処理"
      ]
    },
    {
      "cell_type": "code",
      "execution_count": null,
      "metadata": {
        "id": "HLt4uf38DnLf"
      },
      "outputs": [],
      "source": [
        "!wget -O sample.mp4 \"https://oec-dx.net/pickture/img/video/pickture.mp4\""
      ]
    },
    {
      "cell_type": "code",
      "execution_count": null,
      "metadata": {
        "id": "zqegT8A9D3Dj"
      },
      "outputs": [],
      "source": [
        "capture = cv2.VideoCapture(\"sample.mp4\")\n",
        "\n",
        "width = int(capture.get(cv2.CAP_PROP_FRAME_WIDTH))\n",
        "height = int(capture.get(cv2.CAP_PROP_FRAME_HEIGHT))\n",
        "print((width, height))"
      ]
    },
    {
      "attachments": {},
      "cell_type": "markdown",
      "metadata": {},
      "source": [
        "動画は静止画の連続"
      ]
    },
    {
      "cell_type": "code",
      "execution_count": null,
      "metadata": {
        "id": "aAKxKD0iEmHH"
      },
      "outputs": [],
      "source": [
        "frame_count = int(capture.get(cv2.CAP_PROP_FRAME_COUNT))\n",
        "print(frame_count)"
      ]
    },
    {
      "attachments": {},
      "cell_type": "markdown",
      "metadata": {},
      "source": [
        "フレームレート(FPS) = 1秒間に何枚の静止画を含んでいるか"
      ]
    },
    {
      "cell_type": "code",
      "execution_count": null,
      "metadata": {
        "id": "VEB2dKZ8Epp5"
      },
      "outputs": [],
      "source": [
        "frame_rate = int(capture.get(cv2.CAP_PROP_FPS))\n",
        "print(frame_rate)"
      ]
    },
    {
      "cell_type": "code",
      "execution_count": null,
      "metadata": {
        "id": "o7CD5lIUEtpy"
      },
      "outputs": [],
      "source": [
        "ret, frame = capture.read()\n",
        "\n",
        "print(ret)\n",
        "show(cv2.resize(frame, (384, 216)))\n",
        "\n",
        "for _ in range(10):\n",
        "    for _ in range(frame_rate * 10):\n",
        "        _, frame = capture.read()\n",
        "        show(cv2.resize(frame, (384, 216)))"
      ]
    },
    {
      "cell_type": "code",
      "execution_count": null,
      "metadata": {
        "id": "Qnr4KTvTGiLK"
      },
      "outputs": [],
      "source": [
        "capture.set(cv2.CAP_PROP_POS_FRAMES, 0)\n",
        "\n",
        "format = cv2.VideoWriter_fourcc('m', 'p', '4', 'v')\n",
        "writer = cv2.VideoWriter('./output.mp4', format, frame_rate, (width, height))\n",
        "\n",
        "for index in range(60):\n",
        "    _, frame = capture.read()\n",
        "    frame = cv2.warpAffine(frame, np.array([[1, 0, index * 10],[0, 1, 0]], np.float32), (width, height))\n",
        "    writer.write(frame)\n",
        "\n",
        "capture.release()\n",
        "writer.release()"
      ]
    },
    {
      "attachments": {},
      "cell_type": "markdown",
      "metadata": {
        "id": "Dmefjd81Jm0I"
      },
      "source": [
        "### 演習７\n",
        "\n",
        "動画を徐々に回転するよう加工してください"
      ]
    }
  ],
  "metadata": {
    "colab": {
      "private_outputs": true,
      "provenance": [],
      "toc_visible": true
    },
    "gpuClass": "standard",
    "kernelspec": {
      "display_name": "Python 3",
      "name": "python3"
    },
    "language_info": {
      "name": "python"
    }
  },
  "nbformat": 4,
  "nbformat_minor": 0
}
