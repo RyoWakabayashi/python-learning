{
  "cells": [
    {
      "attachments": {},
      "cell_type": "markdown",
      "metadata": {},
      "source": [
        "# Python 機械学習"
      ]
    },
    {
      "attachments": {},
      "cell_type": "markdown",
      "metadata": {},
      "source": [
        "Python による機械学習を学ぶためのノートブック\n",
        "\n",
        "[![Open In Colab](https://colab.research.google.com/assets/colab-badge.svg)](https://colab.research.google.com/github/RyoWakabayashi/python-learning/blob/main/notebooks/Python%E6%A9%9F%E6%A2%B0%E5%AD%A6%E7%BF%92.ipynb)"
      ]
    },
    {
      "attachments": {},
      "cell_type": "markdown",
      "metadata": {},
      "source": [
        "## 画像識別AIの仕組み\n",
        "\n",
        "人間の脳（ニューラルネットワーク）を模して、画像を認識する\n",
        "\n",
        "各画像を数値の組み合わせ（行列）としてニューラルネットワークに入力し、分類していく\n",
        "\n",
        "https://playground.tensorflow.org/\n",
        "\n",
        "ニューラルネットワークの構造、パラメータの組み合わせをモデルという"
      ]
    },
    {
      "attachments": {},
      "cell_type": "markdown",
      "metadata": {},
      "source": [
        "## Google Colab のランタイム\n",
        "\n",
        "ランタイムのタイプを GPU に変更する\n",
        "\n",
        "Colab Pro を契約すると、より強力な GPU が選択可能になる\n",
        "\n",
        "https://colab.research.google.com/signup/pricing?hl=ja"
      ]
    },
    {
      "attachments": {},
      "cell_type": "markdown",
      "metadata": {},
      "source": [
        "## TensorFlow による推論"
      ]
    },
    {
      "attachments": {},
      "cell_type": "markdown",
      "metadata": {
        "id": "AnVWzqukZhnd"
      },
      "source": [
        "TensorFlow は機械学習フレームワークの1種\n",
        "\n",
        "https://www.tensorflow.org/?hl=ja\n",
        "\n",
        "TensorFlow Hub に様々な AI モデルが公開されている\n",
        "\n",
        "https://tfhub.dev/"
      ]
    },
    {
      "cell_type": "code",
      "execution_count": null,
      "metadata": {
        "id": "ZbPcaMNwLVZf"
      },
      "outputs": [],
      "source": [
        "import tensorflow as tf\n",
        "import tensorflow_hub as hub"
      ]
    },
    {
      "attachments": {},
      "cell_type": "markdown",
      "metadata": {},
      "source": [
        "画像識別モデルを TensorFlow Hub から読み込む"
      ]
    },
    {
      "cell_type": "code",
      "execution_count": null,
      "metadata": {
        "id": "Kob3zLImMv2S"
      },
      "outputs": [],
      "source": [
        "MODULE_HANDLE = \"https://tfhub.dev/google/imagenet/inception_v3/classification/5\"\n",
        "pixels = 299\n",
        "IMAGE_SIZE = (pixels, pixels)\n",
        "\n",
        "classifier = hub.load(MODULE_HANDLE)"
      ]
    },
    {
      "attachments": {},
      "cell_type": "markdown",
      "metadata": {},
      "source": [
        "FiftyOne を使ってテスト用画像を取得する\n",
        "\n",
        "https://docs.voxel51.com/\n",
        "\n",
        "様々なデータセット（データの集まり）からデータを簡単にダウンロードできる"
      ]
    },
    {
      "cell_type": "code",
      "execution_count": null,
      "metadata": {
        "id": "12CYzVXIPQr5"
      },
      "outputs": [],
      "source": [
        "!pip install fiftyone"
      ]
    },
    {
      "cell_type": "code",
      "execution_count": null,
      "metadata": {
        "id": "MszuSaqNPO8M"
      },
      "outputs": [],
      "source": [
        "import fiftyone as fo\n",
        "import fiftyone.zoo as foz"
      ]
    },
    {
      "attachments": {},
      "cell_type": "markdown",
      "metadata": {},
      "source": [
        "Google の Open Images Dataset V6 から猫と犬の画像を取得する"
      ]
    },
    {
      "cell_type": "code",
      "execution_count": null,
      "metadata": {
        "id": "Exqp0PNePfRi"
      },
      "outputs": [],
      "source": [
        "dataset = foz.load_zoo_dataset(\n",
        "    \"open-images-v7\",\n",
        "    split=\"validation\",\n",
        "    label_types=[\"detections\"],\n",
        "    classes=[\"Cat\", \"Dog\"],\n",
        "    max_samples=10,\n",
        "    only_matching=True,\n",
        ")"
      ]
    },
    {
      "attachments": {},
      "cell_type": "markdown",
      "metadata": {},
      "source": [
        "ノートブック上で画像、アノテーションデータ（分類情報、位置情報など、付加されたデータ）を確認することができる"
      ]
    },
    {
      "cell_type": "code",
      "execution_count": null,
      "metadata": {
        "id": "LXLiN-VBQC6g"
      },
      "outputs": [],
      "source": [
        "session = fo.launch_app(dataset)"
      ]
    },
    {
      "attachments": {},
      "cell_type": "markdown",
      "metadata": {},
      "source": [
        "データセットを画像識別用の形式でエクスポートする"
      ]
    },
    {
      "cell_type": "code",
      "execution_count": null,
      "metadata": {
        "id": "ZCFqrNHSRbYF"
      },
      "outputs": [],
      "source": [
        "dataset.export(\n",
        "    export_dir=\"./classification\",\n",
        "    dataset_type=fo.types.ImageClassificationDirectoryTree,\n",
        ")"
      ]
    },
    {
      "cell_type": "code",
      "execution_count": null,
      "metadata": {
        "id": "PnuTQfbUT3oA"
      },
      "outputs": [],
      "source": [
        "import cv2\n",
        "import numpy as np\n",
        "from IPython.display import display, Image"
      ]
    },
    {
      "cell_type": "code",
      "execution_count": null,
      "metadata": {
        "id": "fFcT4Yn-UOqF"
      },
      "outputs": [],
      "source": [
        "def show(img):\n",
        "    _, buf = cv2.imencode(\".jpg\", img)\n",
        "    display(Image(data=buf.tobytes()))"
      ]
    },
    {
      "cell_type": "code",
      "execution_count": null,
      "metadata": {
        "id": "rRXxWbtAUOcS"
      },
      "outputs": [],
      "source": [
        "image = cv2.imread(\"classification/Cat/000001.jpg\")\n",
        "\n",
        "show(image)"
      ]
    },
    {
      "attachments": {},
      "cell_type": "markdown",
      "metadata": {},
      "source": [
        "画像を推論のための形式に変換する"
      ]
    },
    {
      "cell_type": "code",
      "execution_count": null,
      "metadata": {},
      "outputs": [],
      "source": [
        "image"
      ]
    },
    {
      "cell_type": "code",
      "execution_count": null,
      "metadata": {},
      "outputs": [],
      "source": [
        "# 0 から 255 で表される色の範囲を 0 から 1 に変換\n",
        "input = cv2.resize(image, IMAGE_SIZE) / 255.\n",
        "\n",
        "input"
      ]
    },
    {
      "cell_type": "code",
      "execution_count": null,
      "metadata": {},
      "outputs": [],
      "source": [
        "input.shape"
      ]
    },
    {
      "cell_type": "code",
      "execution_count": null,
      "metadata": {},
      "outputs": [],
      "source": [
        "# 先頭に次元を追加\n",
        "input = input[np.newaxis,:,:,:]\n",
        "\n",
        "input.shape"
      ]
    },
    {
      "cell_type": "code",
      "execution_count": null,
      "metadata": {
        "id": "fb81uxusUSPF"
      },
      "outputs": [],
      "source": [
        "# 型を float32 のテンソルに変換\n",
        "input = tf.image.convert_image_dtype(input, tf.float32)\n",
        "\n",
        "input"
      ]
    },
    {
      "attachments": {},
      "cell_type": "markdown",
      "metadata": {},
      "source": [
        "推論を実行する"
      ]
    },
    {
      "cell_type": "code",
      "execution_count": null,
      "metadata": {},
      "outputs": [],
      "source": [
        "# 推論\n",
        "results = classifier(input)\n",
        "\n",
        "results"
      ]
    },
    {
      "cell_type": "code",
      "execution_count": null,
      "metadata": {},
      "outputs": [],
      "source": [
        "# Softmax 関数によって、推論結果をクラス毎の確率に変換\n",
        "probabilities = tf.nn.softmax(results).numpy()\n",
        "\n",
        "probabilities"
      ]
    },
    {
      "cell_type": "code",
      "execution_count": null,
      "metadata": {},
      "outputs": [],
      "source": [
        "# 確率の高い順に並び替えて、上位5つを取得\n",
        "top_5 = tf.argsort(probabilities, axis=-1, direction=\"DESCENDING\")[0][:5].numpy()\n",
        "\n",
        "top_5"
      ]
    },
    {
      "attachments": {},
      "cell_type": "markdown",
      "metadata": {},
      "source": [
        "識別対象は ImageNet のクラス (1,000 種類)\n",
        "\n",
        "https://www.image-net.org/"
      ]
    },
    {
      "cell_type": "code",
      "execution_count": null,
      "metadata": {
        "id": "KOLG1NWTO6J2"
      },
      "outputs": [],
      "source": [
        "labels_file = \"https://storage.googleapis.com/download.tensorflow.org/data/ImageNetLabels.txt\"\n",
        "\n",
        "downloaded_file = tf.keras.utils.get_file(\"labels.txt\", origin=labels_file)\n",
        "\n",
        "classes = []\n",
        "\n",
        "with open(downloaded_file) as f:\n",
        "  labels = f.readlines()\n",
        "  classes = [l.strip() for l in labels]\n",
        "\n",
        "classes"
      ]
    },
    {
      "cell_type": "code",
      "execution_count": null,
      "metadata": {},
      "outputs": [],
      "source": [
        "# 確率の高い順にクラス名と確率を表示\n",
        "for class_index in top_5:\n",
        "    class_label = classes[class_index]\n",
        "    line = f'{round(probabilities[0][class_index] * 100, 1)} % {class_label}'\n",
        "    print(line)"
      ]
    },
    {
      "attachments": {},
      "cell_type": "markdown",
      "metadata": {},
      "source": [
        "推論結果のラベルを日本語化するために deep_translator をインストールする"
      ]
    },
    {
      "cell_type": "code",
      "execution_count": null,
      "metadata": {
        "id": "8rJzLteIWWvr"
      },
      "outputs": [],
      "source": [
        "!pip install deep_translator"
      ]
    },
    {
      "cell_type": "code",
      "execution_count": null,
      "metadata": {
        "id": "AinnGmdQWiAZ"
      },
      "outputs": [],
      "source": [
        "from deep_translator import GoogleTranslator"
      ]
    },
    {
      "cell_type": "code",
      "execution_count": null,
      "metadata": {
        "id": "2hFyqVhzV_fB"
      },
      "outputs": [],
      "source": [
        "# 確率の高い順にクラス名と確率を表示\n",
        "for class_index in top_5:\n",
        "    class_label = GoogleTranslator(source='auto', target='ja').translate(classes[class_index])\n",
        "    line = f'{round(probabilities[0][class_index] * 100, 1)} % {class_label}'\n",
        "    print(line)"
      ]
    },
    {
      "attachments": {},
      "cell_type": "markdown",
      "metadata": {},
      "source": [
        "一連の推論処理を関数化する"
      ]
    },
    {
      "cell_type": "code",
      "execution_count": null,
      "metadata": {
        "id": "jOKkQmAR8Usb"
      },
      "outputs": [],
      "source": [
        "def classify(image_classifier, image_path, class_list):\n",
        "    print(image_path)\n",
        "    image = cv2.imread(image_path)\n",
        "\n",
        "    show(image)\n",
        "\n",
        "    resized_image = cv2.resize(image, IMAGE_SIZE) / 255.\n",
        "    input = tf.image.convert_image_dtype(resized_image[np.newaxis,:,:,:], tf.float32)\n",
        "\n",
        "    probabilities = tf.nn.softmax(image_classifier(input)).numpy()\n",
        "\n",
        "    top_5 = tf.argsort(probabilities, axis=-1, direction=\"DESCENDING\")[0][:5].numpy()\n",
        "\n",
        "    for class_index in top_5:\n",
        "        class_label = GoogleTranslator(source='auto', target='ja').translate(class_list[class_index])\n",
        "        line = f'{round(probabilities[0][class_index] * 100, 1)} % {class_label}'\n",
        "        print(line)\n",
        "\n",
        "    return class_list[top_5[0]]"
      ]
    },
    {
      "cell_type": "code",
      "execution_count": null,
      "metadata": {
        "id": "h3i1yycU9H_q"
      },
      "outputs": [],
      "source": [
        "classify(classifier, \"classification/Dog/000003.jpg\", classes)"
      ]
    },
    {
      "attachments": {},
      "cell_type": "markdown",
      "metadata": {
        "id": "txYSnz5cXn7d"
      },
      "source": [
        "## TensorFlow による機械学習トレーニング"
      ]
    },
    {
      "attachments": {},
      "cell_type": "markdown",
      "metadata": {},
      "source": [
        "### 転移学習（Transfer Learning）"
      ]
    },
    {
      "attachments": {},
      "cell_type": "markdown",
      "metadata": {},
      "source": [
        "学習済みモデルをベースにトレーニングする\n",
        "\n",
        "ニューラルネットワークの構造は同じで、最後の識別対象だけを変更し、再トレーニングする\n",
        "\n",
        "0から学習よりも少ないデータで早く学習できる"
      ]
    },
    {
      "cell_type": "code",
      "execution_count": null,
      "metadata": {
        "id": "k5z53Ke2Y9YN"
      },
      "outputs": [],
      "source": [
        "MODULE_HANDLE = \"https://tfhub.dev/google/imagenet/inception_v3/feature_vector/5\""
      ]
    },
    {
      "attachments": {},
      "cell_type": "markdown",
      "metadata": {},
      "source": [
        "自分で識別したいクラス（トレーニング対象）を Open Images Dataset から選択する\n",
        "\n",
        "https://storage.googleapis.com/openimages/web/index.html"
      ]
    },
    {
      "cell_type": "code",
      "execution_count": null,
      "metadata": {
        "id": "44dmCb8MXlqY"
      },
      "outputs": [],
      "source": [
        "# 自分の選択したクラスに変更する\n",
        "my_classes = sorted([\"Turtle\", \"Rabbit\"])\n",
        "\n",
        "my_classes"
      ]
    },
    {
      "cell_type": "code",
      "execution_count": null,
      "metadata": {
        "id": "xCuDFb2fn2qN"
      },
      "outputs": [],
      "source": [
        "print(\"Building model with\", MODULE_HANDLE)\n",
        "model = tf.keras.Sequential([\n",
        "    tf.keras.layers.InputLayer(\n",
        "        input_shape=IMAGE_SIZE + (3,)   # 入力層の形は画像の 横 * 縦 * 3（RGBの色）\n",
        "    ),\n",
        "    hub.KerasLayer(\n",
        "        MODULE_HANDLE,                  # 元モデル\n",
        "        trainable=False                 # 元モデルの中間層は学習しない\n",
        "    ),\n",
        "    tf.keras.layers.Dropout(rate=0.2),\n",
        "    tf.keras.layers.Dense(\n",
        "        len(my_classes),                # 出力層の形は識別する種類の数\n",
        "        kernel_regularizer=tf.keras.regularizers.l2(0.0001)\n",
        "    )\n",
        "])\n",
        "model.build((None,)+IMAGE_SIZE+(3,))\n",
        "model.summary()\n",
        "\n",
        "model.compile(\n",
        "    optimizer=tf.keras.optimizers.SGD(\n",
        "        learning_rate=0.00002,          #学習率\n",
        "        momentum=0.9\n",
        "    ),\n",
        "    loss=tf.keras.losses.CategoricalCrossentropy(\n",
        "        from_logits=True,\n",
        "        label_smoothing=0.1\n",
        "    ),\n",
        "    metrics=['accuracy']\n",
        ")"
      ]
    },
    {
      "attachments": {},
      "cell_type": "markdown",
      "metadata": {},
      "source": [
        "### トレーニングデータの準備"
      ]
    },
    {
      "cell_type": "code",
      "execution_count": null,
      "metadata": {
        "id": "QWy3UfumXjyK"
      },
      "outputs": [],
      "source": [
        "# ダウンロード\n",
        "my_dataset = foz.load_zoo_dataset(\n",
        "    \"open-images-v7\",\n",
        "    split=\"test\",\n",
        "    label_types=[\"detections\"],\n",
        "    classes=my_classes,\n",
        "    max_samples=250,\n",
        ")"
      ]
    },
    {
      "cell_type": "code",
      "execution_count": null,
      "metadata": {
        "id": "W0yWXhtyYMnE"
      },
      "outputs": [],
      "source": [
        "session = fo.launch_app(my_dataset)"
      ]
    },
    {
      "cell_type": "code",
      "execution_count": null,
      "metadata": {
        "id": "b2IMU8uGYjcJ"
      },
      "outputs": [],
      "source": [
        "# エクスポート\n",
        "data_dir = \"my_dataset\"\n",
        "\n",
        "my_dataset.export(\n",
        "    export_dir=data_dir,\n",
        "    dataset_type=fo.types.ImageClassificationDirectoryTree,\n",
        "    classes=my_classes,\n",
        ")"
      ]
    },
    {
      "cell_type": "code",
      "execution_count": null,
      "metadata": {
        "id": "UBF8Unrgl2db"
      },
      "outputs": [],
      "source": [
        "import glob\n",
        "import shutil"
      ]
    },
    {
      "attachments": {},
      "cell_type": "markdown",
      "metadata": {},
      "source": [
        "識別対象の画像以外は削除する"
      ]
    },
    {
      "cell_type": "code",
      "execution_count": null,
      "metadata": {
        "id": "eQQhgjO4l4la"
      },
      "outputs": [],
      "source": [
        "directories = glob.glob(data_dir + '/*')\n",
        "\n",
        "for directory in directories:\n",
        "    if not directory.split(\"/\")[-1] in my_classes:\n",
        "        shutil.rmtree(directory)"
      ]
    },
    {
      "attachments": {},
      "cell_type": "markdown",
      "metadata": {},
      "source": [
        "トレーニング用データ、検証用データをそれぞれ準備する\n",
        "\n",
        "- トレーニング用データ（トレーニング時に読み込むするデータ）\n",
        "- 検証用データ（トレーニング中に精度を確認するためのデータ）\n",
        "\n",
        "トレーニングの流れ\n",
        "\n",
        "- epoch を繰り返す\n",
        "  - トレーニング用データでパラメータを調整する\n",
        "  - 検証用データで精度を確認する\n",
        "- 一番いい状態を保存する"
      ]
    },
    {
      "cell_type": "code",
      "execution_count": null,
      "metadata": {},
      "outputs": [],
      "source": [
        "# データ生成の共通処理\n",
        "datagen_kwargs = dict(\n",
        "    rescale=1./255,       # RGB を 1 ～ 255 の整数で表していたのを 0.0 ～ 1.0 の小数で表すようにする\n",
        "    validation_split=.20  # データ全体のうち、2割は検証データにする\n",
        ")\n",
        "\n",
        "dataflow_kwargs = dict(\n",
        "    target_size=IMAGE_SIZE,  # 画像サイズ\n",
        "    batch_size=8,            # 並列実行数\n",
        "    interpolation=\"bilinear\" # リサイズの方法\n",
        ")"
      ]
    },
    {
      "cell_type": "code",
      "execution_count": null,
      "metadata": {
        "id": "PhvOK-RKbCgE"
      },
      "outputs": [],
      "source": [
        "# 検証用データの生成定義\n",
        "# 検証用データは加工しない\n",
        "valid_datagen = tf.keras.preprocessing.image.ImageDataGenerator(\n",
        "    **datagen_kwargs\n",
        ")\n",
        "\n",
        "valid_generator = valid_datagen.flow_from_directory(\n",
        "    data_dir,\n",
        "    subset=\"validation\",\n",
        "    shuffle=False,\n",
        "    **dataflow_kwargs\n",
        ")"
      ]
    },
    {
      "attachments": {},
      "cell_type": "markdown",
      "metadata": {},
      "source": [
        "### トレーニング用データの水増し"
      ]
    },
    {
      "attachments": {},
      "cell_type": "markdown",
      "metadata": {},
      "source": [
        "同じ画像ばかり学習すると、過学習（偏った学習により、未知のデータに弱くなる現象）が発生してしまう\n",
        "\n",
        "画像加工をランダムに加えることで、画像のバリエーションを増やす"
      ]
    },
    {
      "cell_type": "code",
      "execution_count": null,
      "metadata": {
        "id": "Q0TuUMZrdCsX"
      },
      "outputs": [],
      "source": [
        "import random\n",
        "from tensorflow.keras.preprocessing import image"
      ]
    },
    {
      "cell_type": "code",
      "execution_count": null,
      "metadata": {
        "id": "vlSgiZWybCZa"
      },
      "outputs": [],
      "source": [
        "files = glob.glob(data_dir + '/*/*.jpg') #　学習画像一覧を取得\n",
        "\n",
        "# 一覧からランダムに一つ選択しPIL形式でオープン\n",
        "img = image.load_img(random.choice(files))\n",
        "# PIL形式をnumpyのndarray形式に変換\n",
        "x_img = image.img_to_array(img)\n",
        "x_img = cv2.resize(x_img, IMAGE_SIZE)\n",
        "\n",
        "show(cv2.cvtColor(x_img, cv2.COLOR_RGB2BGR))\n",
        "\n",
        "# (height, width, 3) -> (1, height, width, 3)\n",
        "x_img = x_img.reshape((1,) + x_img.shape)"
      ]
    },
    {
      "cell_type": "code",
      "execution_count": null,
      "metadata": {
        "id": "SiuC5rT6d8qe"
      },
      "outputs": [],
      "source": [
        "def check_datagen(train_datagen):\n",
        "    max_img_num = 4\n",
        "    images = []\n",
        "    for data in train_datagen.flow(x_img, batch_size=1):\n",
        "        images.append(data[0])\n",
        "        # datagen.flowは無限ループするため必要な枚数取得できたらループを抜ける\n",
        "        if (len(images) % max_img_num) == 0:\n",
        "            break\n",
        "\n",
        "    for img in images:\n",
        "        show(cv2.cvtColor(img * 255, cv2.COLOR_RGB2BGR))"
      ]
    },
    {
      "cell_type": "code",
      "execution_count": null,
      "metadata": {
        "id": "alIFvnticrzq"
      },
      "outputs": [],
      "source": [
        "train_datagen = tf.keras.preprocessing.image.ImageDataGenerator(\n",
        "    rotation_range=45,  # 回転範囲 整数を指定 rotation_range=45の場合、-45°~45°の間でランダムに回転する\n",
        "    **datagen_kwargs\n",
        ")\n",
        "\n",
        "check_datagen(train_datagen)"
      ]
    },
    {
      "cell_type": "code",
      "execution_count": null,
      "metadata": {
        "id": "myZ9ekzteqQS"
      },
      "outputs": [],
      "source": [
        "train_datagen = tf.keras.preprocessing.image.ImageDataGenerator(\n",
        "    horizontal_flip=True,  # 左右反転 True,Falseを指定 Trueの場合ランダムに左右反転する\n",
        "    vertical_flip=True,    # 上下反転 True,Falseを指定 Trueの場合ランダムに上下反転する\n",
        "    **datagen_kwargs\n",
        ")\n",
        "\n",
        "check_datagen(train_datagen)"
      ]
    },
    {
      "cell_type": "code",
      "execution_count": null,
      "metadata": {
        "id": "LRYUfX10gnhc"
      },
      "outputs": [],
      "source": [
        "train_datagen = tf.keras.preprocessing.image.ImageDataGenerator(\n",
        "    width_shift_range=0.3,   # 左右並行移動 範囲[0, 1]の小数を指定する width_shift_range=0.3の場合、[-0.3 * 幅, 0.3 * 幅] の範囲でランダムに左右平行移動する。\n",
        "    height_shift_range=0.3,  # 上下並行移動 範囲[0, 1]の小数を指定する height_shift_range=0.3の場合、[-0.3 * 高さ, 0.3 * 高さ] の範囲でランダムに上下平行移動する。\n",
        "    **datagen_kwargs\n",
        ")\n",
        "\n",
        "check_datagen(train_datagen)"
      ]
    },
    {
      "cell_type": "code",
      "execution_count": null,
      "metadata": {
        "id": "yb9kTIgymxak"
      },
      "outputs": [],
      "source": [
        "train_datagen = tf.keras.preprocessing.image.ImageDataGenerator(\n",
        "    channel_shift_range=50,  # 輝度変化 範囲[0, 255]の値を指定する channel_shift_range=50 とした場合、[-50, 50] の範囲でランダムに画素値に値を足す。\n",
        "    **datagen_kwargs\n",
        ")\n",
        "\n",
        "check_datagen(train_datagen)"
      ]
    },
    {
      "cell_type": "code",
      "execution_count": null,
      "metadata": {
        "id": "EJwIc9UymxEA"
      },
      "outputs": [],
      "source": [
        "train_datagen = tf.keras.preprocessing.image.ImageDataGenerator(\n",
        "    shear_range=50,         # 斜め方向の歪み 少数または整数を指定 shear_range=50の場合、-50° ~ 50° の範囲でランダムに歪みを加える。\n",
        "    **datagen_kwargs\n",
        ")\n",
        "\n",
        "check_datagen(train_datagen)"
      ]
    },
    {
      "cell_type": "code",
      "execution_count": null,
      "metadata": {
        "id": "fjMu8Ki1mwxX"
      },
      "outputs": [],
      "source": [
        "train_datagen = tf.keras.preprocessing.image.ImageDataGenerator(\n",
        "    zoom_range=0.3,          # 拡大・縮小 範囲[0, 1]の小数を指定する zoom_range=0.3の場合、[1 - 0.3, 1 + 0.3] つまり [0.7, 1.3] の範囲でランダムに拡大縮小する。\n",
        "    **datagen_kwargs\n",
        ")\n",
        "\n",
        "check_datagen(train_datagen)"
      ]
    },
    {
      "cell_type": "code",
      "execution_count": null,
      "metadata": {
        "id": "xeE79Y7-mwgx"
      },
      "outputs": [],
      "source": [
        "# 色調調整をする関数\n",
        "def color_shift(image):\n",
        "    image = np.array(image)   \n",
        "    shift_range = random.uniform(100, -100) #各画素値に足す値の範囲を[0, 255]で指定 数が大きければより原色に近くなる\n",
        "    rgb = random.randint(0, 2)\n",
        "    # RGBそれぞれに対しランダムに値を足す\n",
        "    image[:, :, rgb] += shift_range\n",
        "\n",
        "    return image\n",
        "\n",
        "train_datagen = tf.keras.preprocessing.image.ImageDataGenerator(\n",
        "    preprocessing_function = color_shift, # 自前で用意した前処理関数を指定する\n",
        "    **datagen_kwargs\n",
        ")\n",
        "\n",
        "check_datagen(train_datagen)"
      ]
    },
    {
      "cell_type": "code",
      "execution_count": null,
      "metadata": {
        "id": "km8RJht9nXkv"
      },
      "outputs": [],
      "source": [
        "# 色調調整をする関数\n",
        "def color_shift(image):\n",
        "    image = np.array(image)   \n",
        "    shift_range = random.uniform(100, -100) #各画素値に足す値の範囲を[0, 255]で指定 数が大きければより原色に近くなる\n",
        "    rgb = random.randint(0, 2)\n",
        "    # RGBそれぞれに対しランダムに値を足す\n",
        "    image[:, :, rgb] += shift_range\n",
        "\n",
        "    return image\n",
        "\n",
        "# 学習データの生成定義\n",
        "do_data_augmentation = True\n",
        "if do_data_augmentation:\n",
        "    train_datagen = tf.keras.preprocessing.image.ImageDataGenerator(\n",
        "        rotation_range=45,       # 回転範囲 整数を指定\n",
        "        horizontal_flip=True,      # 左右反転 True,Falseを指定\n",
        "        vertical_flip=True,        # 上下反転　True,Falseを指定\n",
        "        width_shift_range=0.3,   # 左右並行移動 範囲[0, 1]の小数を指定する\n",
        "        height_shift_range=0.3,  # 上下並行移動 範囲[0, 1]の小数を指定する\n",
        "        channel_shift_range=100,  # 輝度変化 範囲[0, 255]の値を指定する\n",
        "        shear_range=50,           # 斜め方向の歪み 少数または整数を指定\n",
        "        zoom_range=0.5,          # 拡大・縮小\n",
        "        preprocessing_function = color_shift, # 自前で用意した前処理関数を指定　例では色調調整をする関数を指定\n",
        "        **datagen_kwargs\n",
        "    )\n",
        "else:\n",
        "    train_datagen = valid_datagen\n",
        "\n",
        "check_datagen(train_datagen)"
      ]
    },
    {
      "cell_type": "code",
      "execution_count": null,
      "metadata": {
        "id": "uAKcP9QNnyjz"
      },
      "outputs": [],
      "source": [
        "train_generator = train_datagen.flow_from_directory(\n",
        "    data_dir, \n",
        "    subset=\"training\", \n",
        "    shuffle=True, \n",
        "    **dataflow_kwargs\n",
        ")"
      ]
    },
    {
      "attachments": {},
      "cell_type": "markdown",
      "metadata": {},
      "source": [
        "### 早期終了（アーリーストッピング）"
      ]
    },
    {
      "attachments": {},
      "cell_type": "markdown",
      "metadata": {},
      "source": [
        "過学習が発生すると、学習すればするほど検証データに対する精度が落ちる\n",
        "\n",
        "一定回数か学習の兆候が見えたら、その時点でトレーニングを終了する"
      ]
    },
    {
      "cell_type": "code",
      "execution_count": null,
      "metadata": {
        "id": "0b5HT8Bwn_JE"
      },
      "outputs": [],
      "source": [
        "cb_es = tf.keras.callbacks.EarlyStopping(\n",
        "    monitor='val_loss',\n",
        "    patience=5,            # 5回連続で val_loss が高くなったとき、学習を終了する\n",
        "    verbose=1,\n",
        "    mode='auto'\n",
        ")"
      ]
    },
    {
      "attachments": {},
      "cell_type": "markdown",
      "metadata": {},
      "source": [
        "### トレーニングの実行"
      ]
    },
    {
      "cell_type": "code",
      "execution_count": null,
      "metadata": {},
      "outputs": [],
      "source": [
        "steps_per_epoch = train_generator.samples // train_generator.batch_size\n",
        "validation_steps = valid_generator.samples // valid_generator.batch_size\n",
        "\n",
        "hist = model.fit(\n",
        "    train_generator,\n",
        "    epochs=50,            #最大何epoch実行するか指定  各自で調整するが、大きくしすぎるとメモリが足りなくなるため200以上は指定しないこと\n",
        "    steps_per_epoch=steps_per_epoch,\n",
        "    validation_data=valid_generator,\n",
        "    validation_steps=validation_steps,\n",
        "    callbacks=[cb_es]\n",
        ").history"
      ]
    },
    {
      "attachments": {},
      "cell_type": "markdown",
      "metadata": {},
      "source": [
        "### トレーニング結果（モデル）の保存"
      ]
    },
    {
      "cell_type": "code",
      "execution_count": null,
      "metadata": {},
      "outputs": [],
      "source": [
        "saved_model_path = \"/content/saved_model\"\n",
        "tf.keras.models.save_model(model, saved_model_path)\n",
        "\n",
        "# クラス一覧のテキストファイルをモデルファイルと同じディレクトリに作成する\n",
        "with open(saved_model_path + '/labels.txt', 'w') as f:\n",
        "    for category in my_classes:\n",
        "        f.write(\"%s\\n\" % category)"
      ]
    },
    {
      "attachments": {},
      "cell_type": "markdown",
      "metadata": {},
      "source": [
        "## トレーニング結果の視覚化"
      ]
    },
    {
      "cell_type": "code",
      "execution_count": null,
      "metadata": {
        "id": "QOIii67DpI1G"
      },
      "outputs": [],
      "source": [
        "import matplotlib.pylab as plt"
      ]
    },
    {
      "cell_type": "code",
      "execution_count": null,
      "metadata": {
        "id": "bEIB4v1KpLTt"
      },
      "outputs": [],
      "source": [
        "plt.figure()\n",
        "plt.ylabel(\"Loss (training and validation)\")\n",
        "plt.xlabel(\"Training Steps\")\n",
        "plt.plot(hist[\"loss\"])\n",
        "plt.plot(hist[\"val_loss\"])\n",
        "\n",
        "plt.figure()\n",
        "plt.ylabel(\"Accuracy (training and validation)\")\n",
        "plt.xlabel(\"Training Steps\")\n",
        "plt.plot(hist[\"accuracy\"])\n",
        "plt.plot(hist[\"val_accuracy\"])"
      ]
    },
    {
      "attachments": {},
      "cell_type": "markdown",
      "metadata": {},
      "source": [
        "## モデルの Google Drive への保存"
      ]
    },
    {
      "attachments": {},
      "cell_type": "markdown",
      "metadata": {},
      "source": [
        "Google Colab 上のデータは、セッションが切れると消えてしまう\n",
        "\n",
        "残しておきたいものは必ず外部に保存する"
      ]
    },
    {
      "cell_type": "code",
      "execution_count": null,
      "metadata": {
        "id": "YQQsrdLVsoXj"
      },
      "outputs": [],
      "source": [
        "from google.colab import drive\n",
        "drive.mount('/content/drive')"
      ]
    },
    {
      "cell_type": "code",
      "execution_count": null,
      "metadata": {
        "id": "ZrBk5bMkpRSf"
      },
      "outputs": [],
      "source": [
        "DIR_NAME = \"20230516\"\n",
        "\n",
        "SAVED_MODEL_PATH = \"/content/saved_model/\"\n",
        "\n",
        "DRIVE_SAVED_PATH = \"/content/drive/MyDrive/saved_model/{}/\".format(DIR_NAME)\n",
        "\n",
        "# ドライブに保存\n",
        "!mkdir -p $DRIVE_SAVED_PATH\n",
        "!cp -pR \"$SAVED_MODEL_PATH\"* $DRIVE_SAVED_PATH"
      ]
    },
    {
      "attachments": {},
      "cell_type": "markdown",
      "metadata": {},
      "source": [
        "## トレーニングしたモデルによる推論"
      ]
    },
    {
      "attachments": {},
      "cell_type": "markdown",
      "metadata": {},
      "source": [
        "Google Drive からモデルを読み込む"
      ]
    },
    {
      "cell_type": "code",
      "execution_count": null,
      "metadata": {
        "id": "76BB6JNU8BAs"
      },
      "outputs": [],
      "source": [
        "new_model = tf.keras.models.load_model(DRIVE_SAVED_PATH)\n",
        "new_model.summary()"
      ]
    },
    {
      "attachments": {},
      "cell_type": "markdown",
      "metadata": {},
      "source": [
        "テスト用データの取得"
      ]
    },
    {
      "cell_type": "code",
      "execution_count": null,
      "metadata": {
        "id": "oGqAQ22q-Z19"
      },
      "outputs": [],
      "source": [
        "test_dataset = foz.load_zoo_dataset(\n",
        "    \"open-images-v7\",\n",
        "    split=\"validation\",\n",
        "    label_types=[\"detections\"],\n",
        "    classes=my_classes,\n",
        "    max_samples=100,\n",
        ")"
      ]
    },
    {
      "cell_type": "code",
      "execution_count": null,
      "metadata": {
        "id": "QImfUYY9-q9M"
      },
      "outputs": [],
      "source": [
        "test_dir = \"test\"\n",
        "\n",
        "test_dataset.export(\n",
        "    export_dir=test_dir,\n",
        "    dataset_type=fo.types.ImageClassificationDirectoryTree,\n",
        "    classes=my_classes,\n",
        ")"
      ]
    },
    {
      "cell_type": "code",
      "execution_count": null,
      "metadata": {
        "id": "wvOI_ZuH-9Vk"
      },
      "outputs": [],
      "source": [
        "for directory in glob.glob(test_dir + '/*'):\n",
        "    if not directory.split(\"/\")[-1] in my_classes:\n",
        "        shutil.rmtree(directory)"
      ]
    },
    {
      "cell_type": "code",
      "execution_count": null,
      "metadata": {
        "id": "K6NHhJM4-MUn"
      },
      "outputs": [],
      "source": [
        "for category in my_classes:\n",
        "    # クラスごとに最初の一件のみ分類にかける\n",
        "    image_path_list = glob.glob(\"{}/{}/*\".format(test_dir, category))\n",
        "    img_pth = image_path_list[1]\n",
        "    classify(new_model, img_pth, my_classes)"
      ]
    },
    {
      "cell_type": "code",
      "execution_count": null,
      "metadata": {
        "id": "86F81m0iLlIQ"
      },
      "outputs": [],
      "source": [
        "import os"
      ]
    },
    {
      "cell_type": "code",
      "execution_count": null,
      "metadata": {
        "id": "a-VxHDsvKV7m"
      },
      "outputs": [],
      "source": [
        "acc_results_dict = {}\n",
        "y_pred = []\n",
        "y_true = []\n",
        "total = 0\n",
        "total_t_data = 0\n",
        "\n",
        "def predicted_class(image_path_list, category, image_num, size, new_model, y_true, y_pred):\n",
        "    t_data = 0\n",
        "    f_data = 0\n",
        "\n",
        "    for img_pth in image_path_list:\n",
        "        predicted_class_name = classify(new_model, img_pth, my_classes)\n",
        "\n",
        "        if predicted_class_name == category:\n",
        "          t_data = t_data + 1\n",
        "        else:\n",
        "          f_data = f_data + 1\n",
        "\n",
        "        print(predicted_class_name == category, '\\n')\n",
        "\n",
        "        y_true.append(category)\n",
        "        y_pred.append(predicted_class_name)\n",
        "        presult = [t_data, f_data]\n",
        "        accresult = t_data / image_num\n",
        "\n",
        "    return presult, accresult, y_true, y_pred, t_data\n",
        "\n",
        "for category in my_classes:\n",
        "    # フォルダごとに識別にかける\n",
        "    image_path_list = glob.glob(\"{}/{}/*\".format(test_dir, category))\n",
        "    num = len(os.listdir(\"{}/{}\".format(test_dir, category)))\n",
        "    total += num\n",
        "    p_result, acc_result , y_true, y_pred, t_data = predicted_class(\n",
        "        image_path_list = image_path_list, \n",
        "        category = category, \n",
        "        image_num = num, \n",
        "        size = IMAGE_SIZE, \n",
        "        new_model =new_model, \n",
        "        y_true = y_true, \n",
        "        y_pred = y_pred\n",
        "    )\n",
        "\n",
        "    acc_results_dict[category] = acc_result\n",
        "    total_t_data += t_data\n",
        "    print('-------------------------------------------')\n",
        "\n",
        "print('accuracy')\n",
        "\n",
        "# 正解率を表示\n",
        "for class_name, accuracy in acc_results_dict.items() :\n",
        "    print('{} : {}%'.format(class_name, accuracy * 100))\n",
        "\n",
        "print('total : {}%'.format(total_t_data / total * 100))"
      ]
    }
  ],
  "metadata": {
    "accelerator": "GPU",
    "colab": {
      "gpuType": "T4",
      "private_outputs": true,
      "provenance": []
    },
    "gpuClass": "standard",
    "kernelspec": {
      "display_name": "Python 3",
      "name": "python3"
    },
    "language_info": {
      "name": "python"
    }
  },
  "nbformat": 4,
  "nbformat_minor": 0
}
